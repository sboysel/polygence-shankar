{
 "cells": [
  {
   "cell_type": "markdown",
   "id": "7ed3cd3e",
   "metadata": {},
   "source": [
    "# Introduction\n",
    "\n",
    "Reference: https://en.wikipedia.org/wiki/Modern_portfolio_theory\n",
    "\n",
    "Suppose an investor is choosing a portfolio allocation from assets $i = 1, \\ldots, N$.  To do so she will choose optimal weights $w = (w_{1}, \\ldots, w_{N})$ to solve the following problem\n",
    "\n",
    "$$\n",
    "\\min_{w} w'\\Sigma w - q R'w\n",
    "$$\n",
    "\n",
    "where $\\Sigma$ is a $N \\times N$ covariance matrix in which each element $\\sigma_{ij}$ describes the covariance between asset $i$ and $j$, $R = (r_{1}, \\ldots, r_{N})$ is a vector of expected returns for each asset, and $q \\geq 0$ is a measure of the investor's risk tolerance.  We also assume that the weights must sum to 1: $\\sum_{i}w_{i} = 1$ and $0 \\leq w_{i} \\leq 1$.  The term $w'\\Sigma w$ captures the *expected variance* of the portfolio under weights $w$.  The term $R'w$ captures the *expected return (mean)* of the portfolio.  So we can see that the investor wants to choose an allocation (i.e. weights $w$) to (1) minimized expected variance but at the same time (2) maxmimize expected return.  The greater the risk tolerance parameter $q$, the more willing the investor is to trade a lower expected return for greater volatility in their portfolio.\n",
    "\n",
    "Another way to see this problem is\n",
    "\n",
    "$$\n",
    "\\min_{w_{i}} \\sum_{i = 1}^{N}\\sum_{j = 1}^{N}w_{i}w_{j}\\sigma_{ij} - q \\sum_{i = 1}^{N}w_{i}r_{i}\n",
    "$$\n",
    "\n",
    "Call this problem the modern portfolio theory (MPT) problem.\n",
    "\n",
    "## Question\n",
    "\n",
    "Can we come up with a machine learning method that predicts or selects the optimal portfolio weights?  How does the performance of this model compare with the analytical solution?  In other words, can our machine learning method take data $\\Sigma$ and $R$ and predict optimal weights $w^{*}$?\n",
    "\n",
    "Notice that the risk tolerance parameter $q$ is likely not observed in the data.  How does performance of the machine learning model vary as we vary $q$?"
   ]
  },
  {
   "cell_type": "markdown",
   "id": "f63e0404",
   "metadata": {},
   "source": [
    "# Methodology\n",
    "\n",
    "Our methodology consists of comparing two methods for selecting optimal portfolio weights to solve the MPT problem\n",
    "\n",
    "1. the Analytical Solution (AS)\n",
    "2. the Machine Learning Solution (MLS)\n",
    "\n",
    "We develop these solutions below and highlight their differences\n",
    "\n",
    "## Analytical Solution (AS)\n",
    "\n",
    "The solution to the MPT problem is\n",
    "\n",
    "$$\n",
    "w^{*}_{i} = \\frac{\\frac{1}{2}q r_{i} - \\sum_{j \\neq i}w^{*}_{j}\\sigma_{ij}}{\\sigma^{2}_{i}}\n",
    "$$\n",
    "\n",
    "or in matrix notation\n",
    "\n",
    "$$\n",
    "w^{*} = \\frac{q}{2}\\Sigma^{-1}R\n",
    "$$\n",
    "\n",
    "Notice that the solution to the optimal portfolio weights are a function of $q$, $\\Sigma$, and $R$:\n",
    "\n",
    "$$\n",
    "w^{*} = f(q, \\Sigma, R)\n",
    "$$\n",
    "\n",
    "## Machine Learning Solution (MLS)\n",
    "\n",
    "We need a method (i.e. a function $g$) that given data on $\\Sigma$ and $R$ predicts $w^{*}$.  \n",
    "\n",
    "$$\n",
    "w^{**} = g(\\Sigma, R)\n",
    "$$\n",
    "\n",
    "We can evaluate the performance of this method by comparing the ML predictions $w^{**}$ against those predicted by the analytical solution, $w^{*}$\n",
    "\n",
    "One issue is that we (likely) do not observe weights $w$ directly.  Our machine learning method $g$ needs to be trained on inputs $R$ and $\\Sigma$ *and* outputs $w^{*}$.  Hence a simple solution would be to train the model on the optimal weights predicted by the analytical solution, $w^{*}$.\n",
    "\n",
    "Since the analytical solution depends on the choice of a risk tolerance parameter $q$, we evalute the performance of the ML method when we vary $q$.  Does the machine learning method perform better or worse for certain values?  Is it simply a matter of training the ML method on a large enough sample of examples?"
   ]
  },
  {
   "cell_type": "markdown",
   "id": "2eaa418d",
   "metadata": {},
   "source": [
    "# Data\n",
    "\n",
    "The data required for this exercise is $D = (R, \\Sigma)$ for a set of assets $i = 1, \\ldots, N$.  We can derive these data from observable data on assets such as stocks.  Specifically, we will need:\n",
    "\n",
    "1. Prices of a set of stocks over time.  From these we can derive:\n",
    "    * expected returns ($R$)\n",
    "    * covariances between stocks ($\\Sigma$)"
   ]
  },
  {
   "cell_type": "code",
   "execution_count": null,
   "id": "02d3c9bf",
   "metadata": {},
   "outputs": [],
   "source": []
  }
 ],
 "metadata": {
  "kernelspec": {
   "display_name": "Python 3 (ipykernel)",
   "language": "python",
   "name": "python3"
  },
  "language_info": {
   "codemirror_mode": {
    "name": "ipython",
    "version": 3
   },
   "file_extension": ".py",
   "mimetype": "text/x-python",
   "name": "python",
   "nbconvert_exporter": "python",
   "pygments_lexer": "ipython3",
   "version": "3.10.7"
  }
 },
 "nbformat": 4,
 "nbformat_minor": 5
}
